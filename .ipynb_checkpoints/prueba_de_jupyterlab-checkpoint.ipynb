{
 "cells": [
  {
   "cell_type": "markdown",
   "id": "b90f67e8-a38a-4868-94a5-35e232e1b1ef",
   "metadata": {},
   "source": [
    "<h1 style=\"color:#C7F547\">Hola</h1>\n",
    "<h2>Subtitulo</h2>\n",
    "<h3>Subsubtitulo</h3>\n",
    "<p>parrafo</p>\n",
    "<b>pongo negritas</b>\n",
    "<img src=\"img/pelota.jpeg\" style=\"width:10%\">"
   ]
  },
  {
   "cell_type": "code",
   "execution_count": 3,
   "id": "7a5ad7b4-2796-4291-ad0a-612e14ac4fb9",
   "metadata": {},
   "outputs": [
    {
     "name": "stdout",
     "output_type": "stream",
     "text": [
      "Hola\n"
     ]
    }
   ],
   "source": [
    "print(\"Hola\")"
   ]
  }
 ],
 "metadata": {
  "kernelspec": {
   "display_name": "Python 3 (ipykernel)",
   "language": "python",
   "name": "python3"
  },
  "language_info": {
   "codemirror_mode": {
    "name": "ipython",
    "version": 3
   },
   "file_extension": ".py",
   "mimetype": "text/x-python",
   "name": "python",
   "nbconvert_exporter": "python",
   "pygments_lexer": "ipython3",
   "version": "3.11.3"
  }
 },
 "nbformat": 4,
 "nbformat_minor": 5
}
